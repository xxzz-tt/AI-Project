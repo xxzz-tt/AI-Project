{
 "cells": [
  {
   "cell_type": "code",
   "execution_count": 1,
   "metadata": {},
   "outputs": [],
   "source": [
    "# https://github.com/argosopentech/argos-translate\n",
    "import argostranslate.package\n",
    "import argostranslate.translate\n",
    "\n",
    "from_code = \"en\"\n",
    "to_code = \"fr\"\n",
    "\n",
    "# Download and install Argos Translate package\n",
    "argostranslate.package.update_package_index()\n",
    "available_packages = argostranslate.package.get_available_packages()\n",
    "package_to_install = next(\n",
    "    filter(\n",
    "        lambda x: x.from_code == from_code and x.to_code == to_code, available_packages\n",
    "    )\n",
    ")\n",
    "argostranslate.package.install_from_path(package_to_install.download())"
   ]
  },
  {
   "cell_type": "code",
   "execution_count": 3,
   "metadata": {},
   "outputs": [],
   "source": [
    "def translate_en_to_fr(filename):\n",
    "    with open(filename, \"r\") as f:\n",
    "        text = f.read()\n",
    "        translated = argostranslate.translate.translate(text, \"en\", \"fr\")\n",
    "    return translated"
   ]
  },
  {
   "cell_type": "code",
   "execution_count": 4,
   "metadata": {},
   "outputs": [],
   "source": [
    "import glob\n",
    "\n",
    "for filename in glob.iglob(\"Audio_Text/\" + \"**/*\", recursive=True):\n",
    "    translated_text = translate_en_to_fr(filename)\n",
    "    print(translated_text)\n",
    "    new_filename = filename.replace(\"Audio_Text/\", \"\").replace(\".txt\", \"\")\n",
    "    # with open(\"Translated_Text/\" + new_filename + \".txt\", \"w\") as f:\n",
    "    #     f.write(translated_text)"
   ]
  },
  {
   "cell_type": "code",
   "execution_count": null,
   "metadata": {},
   "outputs": [],
   "source": []
  }
 ],
 "metadata": {
  "kernelspec": {
   "display_name": "ai-virt",
   "language": "python",
   "name": "python3"
  },
  "language_info": {
   "codemirror_mode": {
    "name": "ipython",
    "version": 3
   },
   "file_extension": ".py",
   "mimetype": "text/x-python",
   "name": "python",
   "nbconvert_exporter": "python",
   "pygments_lexer": "ipython3",
   "version": "3.10.9"
  }
 },
 "nbformat": 4,
 "nbformat_minor": 2
}
