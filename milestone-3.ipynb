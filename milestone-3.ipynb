{
 "cells": [
  {
   "cell_type": "code",
   "execution_count": 58,
   "metadata": {},
   "outputs": [],
   "source": [
    "import glob\n",
    "from translatepy.translators.libre import LibreTranslate"
   ]
  },
  {
   "cell_type": "code",
   "execution_count": 59,
   "metadata": {},
   "outputs": [],
   "source": [
    "def translate(dir_path, language=\"French\"):\n",
    "    translator = LibreTranslate()\n",
    "    files = glob.glob(dir_path)\n",
    "    for f in files:\n",
    "        with open(f, \"r\") as fr:\n",
    "            text = fr.read()\n",
    "        translated = translator.translate(text, language)\n",
    "        new_filename = f.replace('Audio_Text', 'Translated_Text')\n",
    "        print(\"Writing to:\", new_filename)\n",
    "        with open(new_filename, \"w\") as fw:\n",
    "            fw.write(translated.result)"
   ]
  },
  {
   "cell_type": "code",
   "execution_count": 60,
   "metadata": {},
   "outputs": [
    {
     "name": "stdout",
     "output_type": "stream",
     "text": [
      "Writing to: ../AI-Project/Translated_Text/John McCain: The 2017 \"60 Minutes\" interview.txt\n",
      "Writing to: ../AI-Project/Translated_Text/Tom Wolfe: The 60 Minutes interview.txt\n",
      "Writing to: ../AI-Project/Translated_Text/Adam Sandler: The 60 Minutes Interview.txt\n",
      "Writing to: ../AI-Project/Translated_Text/Trevor Noah: The 60 Minutes Interview.txt\n",
      "Writing to: ../AI-Project/Translated_Text/Bill Gates: The 2021 60 Minutes interview.txt\n",
      "Writing to: ../AI-Project/Translated_Text/Mike Leach: The 60 Minutes Interview.txt\n",
      "Writing to: ../AI-Project/Translated_Text/Hillary Clinton's first 60 Minutes interview.txt\n",
      "Writing to: ../AI-Project/Translated_Text/The 60 Minutes interview: Southwest's Herb Kelleher.txt\n",
      "Writing to: ../AI-Project/Translated_Text/Barbra Streisand: The 1991 60 Minutes Interview.txt\n",
      "Writing to: ../AI-Project/Translated_Text/The 60 Minutes Interview: I.M. Pei.txt\n"
     ]
    }
   ],
   "source": [
    "translate(\"../AI-Project/Audio_Text/*\")"
   ]
  }
 ],
 "metadata": {
  "kernelspec": {
   "display_name": "ai-virt",
   "language": "python",
   "name": "python3"
  },
  "language_info": {
   "codemirror_mode": {
    "name": "ipython",
    "version": 3
   },
   "file_extension": ".py",
   "mimetype": "text/x-python",
   "name": "python",
   "nbconvert_exporter": "python",
   "pygments_lexer": "ipython3",
   "version": "3.10.9"
  }
 },
 "nbformat": 4,
 "nbformat_minor": 2
}
