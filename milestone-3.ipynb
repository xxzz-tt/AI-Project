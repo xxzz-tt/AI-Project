{
 "cells": [
  {
   "cell_type": "code",
   "execution_count": 26,
   "metadata": {},
   "outputs": [
    {
     "name": "stdout",
     "output_type": "stream",
     "text": [
      "Writing to -  ../AI-Project/Translated_Text/John McCain: The 2017 \"60 Minutes\" interview.txt\n",
      "Writing to -  ../AI-Project/Translated_Text/Tom Wolfe: The 60 Minutes interview.txt\n",
      "Writing to -  ../AI-Project/Translated_Text/Adam Sandler: The 60 Minutes Interview.txt\n",
      "Writing to -  ../AI-Project/Translated_Text/Trevor Noah: The 60 Minutes Interview.txt\n",
      "Writing to -  ../AI-Project/Translated_Text/Bill Gates: The 2021 60 Minutes interview.txt\n",
      "Writing to -  ../AI-Project/Translated_Text/Mike Leach: The 60 Minutes Interview.txt\n",
      "Writing to -  ../AI-Project/Translated_Text/Hillary Clinton's first 60 Minutes interview.txt\n",
      "Writing to -  ../AI-Project/Translated_Text/The 60 Minutes interview: Southwest's Herb Kelleher.txt\n",
      "Writing to -  ../AI-Project/Translated_Text/Barbra Streisand: The 1991 60 Minutes Interview.txt\n",
      "Writing to -  ../AI-Project/Translated_Text/The 60 Minutes Interview: I.M. Pei.txt\n"
     ]
    }
   ],
   "source": [
    "import glob\n",
    "from translatepy import Translator\n",
    "\n",
    "translator = Translator()\n",
    "files = glob.glob(\"../AI-Project/Audio_Text/*\")\n",
    "\n",
    "for f in files:\n",
    "    with open(f, \"r\") as fr:\n",
    "        text = fr.read()\n",
    "    translated = translator.translate(text, \"French\")\n",
    "    new_filename = f.replace('Audio_Text', 'Translated_Text')\n",
    "    print(\"Writing to - \", new_filename)\n",
    "    with open(new_filename, \"w\") as fw:\n",
    "        fw.write(translated.result)"
   ]
  }
 ],
 "metadata": {
  "kernelspec": {
   "display_name": "ai-virt",
   "language": "python",
   "name": "python3"
  },
  "language_info": {
   "codemirror_mode": {
    "name": "ipython",
    "version": 3
   },
   "file_extension": ".py",
   "mimetype": "text/x-python",
   "name": "python",
   "nbconvert_exporter": "python",
   "pygments_lexer": "ipython3",
   "version": "3.10.9"
  }
 },
 "nbformat": 4,
 "nbformat_minor": 2
}
