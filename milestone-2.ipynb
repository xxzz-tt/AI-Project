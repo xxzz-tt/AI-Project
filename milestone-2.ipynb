{
 "cells": [
  {
   "cell_type": "code",
   "execution_count": 2,
   "metadata": {},
   "outputs": [],
   "source": [
    "from moviepy.editor import *\n",
    "import glob\n",
    "import whisper"
   ]
  },
  {
   "cell_type": "code",
   "execution_count": 3,
   "metadata": {},
   "outputs": [],
   "source": [
    "def vid_audio_to_text(vid):\n",
    "    # separate audio from video\n",
    "    videoclip = VideoFileClip(vid)\n",
    "    audioclip = videoclip.audio\n",
    "    file_name = \"Audio/\" + vid.replace(\"Videos/\", \"\").replace(\".mp4\", \"\") + \".mp3\"\n",
    "    audioclip.write_audiofile(file_name)\n",
    "    \n",
    "    # convert audio clip to text\n",
    "    model = whisper.load_model(\"base\")\n",
    "    result = model.transcribe(file_name)\n",
    "    text = result[\"text\"]\n",
    "    new_file = file_name.replace(\"Audio/\", \"\").replace(\".mp3\", \"\")\n",
    "    with open(\"Audio_Text/\" + new_file + \".txt\", \"w\") as f:\n",
    "        f.write(text)\n",
    "    return text\n",
    "    "
   ]
  },
  {
   "cell_type": "code",
   "execution_count": 4,
   "metadata": {},
   "outputs": [
    {
     "name": "stdout",
     "output_type": "stream",
     "text": [
      "MoviePy - Writing audio in Audio/Bill Gates: The 2021 60 Minutes interview.mp3\n"
     ]
    },
    {
     "name": "stderr",
     "output_type": "stream",
     "text": [
      "                                                                        \r"
     ]
    },
    {
     "name": "stdout",
     "output_type": "stream",
     "text": [
      "MoviePy - Done.\n",
      "MoviePy - Writing audio in Audio/Trevor Noah: The 60 Minutes Interview.mp3\n"
     ]
    },
    {
     "name": "stderr",
     "output_type": "stream",
     "text": [
      "                                                                        \r"
     ]
    },
    {
     "name": "stdout",
     "output_type": "stream",
     "text": [
      "MoviePy - Done.\n",
      "MoviePy - Writing audio in Audio/Mike Leach: The 60 Minutes Interview.mp3\n"
     ]
    },
    {
     "name": "stderr",
     "output_type": "stream",
     "text": [
      "                                                                        \r"
     ]
    },
    {
     "name": "stdout",
     "output_type": "stream",
     "text": [
      "MoviePy - Done.\n"
     ]
    }
   ],
   "source": [
    "for filename in glob.glob(\"Videos/*\"):\n",
    "    vid_audio_to_text(filename)"
   ]
  },
  {
   "cell_type": "code",
   "execution_count": null,
   "metadata": {},
   "outputs": [],
   "source": []
  }
 ],
 "metadata": {
  "kernelspec": {
   "display_name": "ai-virt",
   "language": "python",
   "name": "python3"
  },
  "language_info": {
   "codemirror_mode": {
    "name": "ipython",
    "version": 3
   },
   "file_extension": ".py",
   "mimetype": "text/x-python",
   "name": "python",
   "nbconvert_exporter": "python",
   "pygments_lexer": "ipython3",
   "version": "3.10.9"
  }
 },
 "nbformat": 4,
 "nbformat_minor": 2
}
