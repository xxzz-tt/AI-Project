{
 "cells": [
  {
   "cell_type": "code",
   "execution_count": 1,
   "metadata": {},
   "outputs": [],
   "source": [
    "from moviepy.editor import *\n",
    "import glob\n",
    "import whisper"
   ]
  },
  {
   "cell_type": "code",
   "execution_count": 2,
   "metadata": {},
   "outputs": [],
   "source": [
    "# separate audio from video\n",
    "def get_audio_from_vid(vid):\n",
    "    videoclip = VideoFileClip(vid)\n",
    "    audioclip = videoclip.audio\n",
    "    file_name = vid.replace(\"Videos/\", \"\").replace(\".mp4\", \"\")\n",
    "    audioclip.write_audiofile(\"Audio/\" + file_name + \".mp3\")"
   ]
  },
  {
   "cell_type": "code",
   "execution_count": null,
   "metadata": {},
   "outputs": [],
   "source": [
    "for filename in glob.iglob(\"Videos/\" + \"**/*\", recursive=True):\n",
    "    get_audio_from_vid(filename)"
   ]
  },
  {
   "cell_type": "code",
   "execution_count": 14,
   "metadata": {},
   "outputs": [],
   "source": [
    "# convert input audio clip to text\n",
    "base_model = whisper.load_model(\"base\")\n",
    "def convert_audio_to_text(audiofile, model):\n",
    "    result = model.transcribe(audiofile)\n",
    "    return result[\"text\"]"
   ]
  },
  {
   "cell_type": "code",
   "execution_count": 15,
   "metadata": {},
   "outputs": [],
   "source": [
    "for filename in glob.iglob(\"Audio/\" + \"**/*\", recursive=True):\n",
    "    text = convert_audio_to_text(filename, base_model)\n",
    "    file_name = filename.replace(\"Audio/\", \"\").replace(\".mp3\", \"\")\n",
    "    with open(\"Audio_Text/\" + file_name + \".txt\", \"w\") as new_file:\n",
    "        new_file.write(text)\n",
    "    "
   ]
  }
 ],
 "metadata": {
  "kernelspec": {
   "display_name": "ai-virt",
   "language": "python",
   "name": "python3"
  },
  "language_info": {
   "codemirror_mode": {
    "name": "ipython",
    "version": 3
   },
   "file_extension": ".py",
   "mimetype": "text/x-python",
   "name": "python",
   "nbconvert_exporter": "python",
   "pygments_lexer": "ipython3",
   "version": "3.10.9"
  }
 },
 "nbformat": 4,
 "nbformat_minor": 2
}
